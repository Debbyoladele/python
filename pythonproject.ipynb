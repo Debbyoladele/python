{
 "cells": [
  {
   "cell_type": "code",
   "execution_count": 1,
   "id": "709bd912",
   "metadata": {},
   "outputs": [
    {
     "data": {
      "text/html": [
       "\n",
       "    <div class=\"bk-root\">\n",
       "        <a href=\"https://bokeh.org\" target=\"_blank\" class=\"bk-logo bk-logo-small bk-logo-notebook\"></a>\n",
       "        <span id=\"1002\">Loading BokehJS ...</span>\n",
       "    </div>"
      ]
     },
     "metadata": {},
     "output_type": "display_data"
    },
    {
     "data": {
      "application/javascript": [
       "\n",
       "(function(root) {\n",
       "  function now() {\n",
       "    return new Date();\n",
       "  }\n",
       "\n",
       "  var force = true;\n",
       "\n",
       "  if (typeof root._bokeh_onload_callbacks === \"undefined\" || force === true) {\n",
       "    root._bokeh_onload_callbacks = [];\n",
       "    root._bokeh_is_loading = undefined;\n",
       "  }\n",
       "\n",
       "  var JS_MIME_TYPE = 'application/javascript';\n",
       "  var HTML_MIME_TYPE = 'text/html';\n",
       "  var EXEC_MIME_TYPE = 'application/vnd.bokehjs_exec.v0+json';\n",
       "  var CLASS_NAME = 'output_bokeh rendered_html';\n",
       "\n",
       "  /**\n",
       "   * Render data to the DOM node\n",
       "   */\n",
       "  function render(props, node) {\n",
       "    var script = document.createElement(\"script\");\n",
       "    node.appendChild(script);\n",
       "  }\n",
       "\n",
       "  /**\n",
       "   * Handle when an output is cleared or removed\n",
       "   */\n",
       "  function handleClearOutput(event, handle) {\n",
       "    var cell = handle.cell;\n",
       "\n",
       "    var id = cell.output_area._bokeh_element_id;\n",
       "    var server_id = cell.output_area._bokeh_server_id;\n",
       "    // Clean up Bokeh references\n",
       "    if (id != null && id in Bokeh.index) {\n",
       "      Bokeh.index[id].model.document.clear();\n",
       "      delete Bokeh.index[id];\n",
       "    }\n",
       "\n",
       "    if (server_id !== undefined) {\n",
       "      // Clean up Bokeh references\n",
       "      var cmd = \"from bokeh.io.state import curstate; print(curstate().uuid_to_server['\" + server_id + \"'].get_sessions()[0].document.roots[0]._id)\";\n",
       "      cell.notebook.kernel.execute(cmd, {\n",
       "        iopub: {\n",
       "          output: function(msg) {\n",
       "            var id = msg.content.text.trim();\n",
       "            if (id in Bokeh.index) {\n",
       "              Bokeh.index[id].model.document.clear();\n",
       "              delete Bokeh.index[id];\n",
       "            }\n",
       "          }\n",
       "        }\n",
       "      });\n",
       "      // Destroy server and session\n",
       "      var cmd = \"import bokeh.io.notebook as ion; ion.destroy_server('\" + server_id + \"')\";\n",
       "      cell.notebook.kernel.execute(cmd);\n",
       "    }\n",
       "  }\n",
       "\n",
       "  /**\n",
       "   * Handle when a new output is added\n",
       "   */\n",
       "  function handleAddOutput(event, handle) {\n",
       "    var output_area = handle.output_area;\n",
       "    var output = handle.output;\n",
       "\n",
       "    // limit handleAddOutput to display_data with EXEC_MIME_TYPE content only\n",
       "    if ((output.output_type != \"display_data\") || (!Object.prototype.hasOwnProperty.call(output.data, EXEC_MIME_TYPE))) {\n",
       "      return\n",
       "    }\n",
       "\n",
       "    var toinsert = output_area.element.find(\".\" + CLASS_NAME.split(' ')[0]);\n",
       "\n",
       "    if (output.metadata[EXEC_MIME_TYPE][\"id\"] !== undefined) {\n",
       "      toinsert[toinsert.length - 1].firstChild.textContent = output.data[JS_MIME_TYPE];\n",
       "      // store reference to embed id on output_area\n",
       "      output_area._bokeh_element_id = output.metadata[EXEC_MIME_TYPE][\"id\"];\n",
       "    }\n",
       "    if (output.metadata[EXEC_MIME_TYPE][\"server_id\"] !== undefined) {\n",
       "      var bk_div = document.createElement(\"div\");\n",
       "      bk_div.innerHTML = output.data[HTML_MIME_TYPE];\n",
       "      var script_attrs = bk_div.children[0].attributes;\n",
       "      for (var i = 0; i < script_attrs.length; i++) {\n",
       "        toinsert[toinsert.length - 1].firstChild.setAttribute(script_attrs[i].name, script_attrs[i].value);\n",
       "        toinsert[toinsert.length - 1].firstChild.textContent = bk_div.children[0].textContent\n",
       "      }\n",
       "      // store reference to server id on output_area\n",
       "      output_area._bokeh_server_id = output.metadata[EXEC_MIME_TYPE][\"server_id\"];\n",
       "    }\n",
       "  }\n",
       "\n",
       "  function register_renderer(events, OutputArea) {\n",
       "\n",
       "    function append_mime(data, metadata, element) {\n",
       "      // create a DOM node to render to\n",
       "      var toinsert = this.create_output_subarea(\n",
       "        metadata,\n",
       "        CLASS_NAME,\n",
       "        EXEC_MIME_TYPE\n",
       "      );\n",
       "      this.keyboard_manager.register_events(toinsert);\n",
       "      // Render to node\n",
       "      var props = {data: data, metadata: metadata[EXEC_MIME_TYPE]};\n",
       "      render(props, toinsert[toinsert.length - 1]);\n",
       "      element.append(toinsert);\n",
       "      return toinsert\n",
       "    }\n",
       "\n",
       "    /* Handle when an output is cleared or removed */\n",
       "    events.on('clear_output.CodeCell', handleClearOutput);\n",
       "    events.on('delete.Cell', handleClearOutput);\n",
       "\n",
       "    /* Handle when a new output is added */\n",
       "    events.on('output_added.OutputArea', handleAddOutput);\n",
       "\n",
       "    /**\n",
       "     * Register the mime type and append_mime function with output_area\n",
       "     */\n",
       "    OutputArea.prototype.register_mime_type(EXEC_MIME_TYPE, append_mime, {\n",
       "      /* Is output safe? */\n",
       "      safe: true,\n",
       "      /* Index of renderer in `output_area.display_order` */\n",
       "      index: 0\n",
       "    });\n",
       "  }\n",
       "\n",
       "  // register the mime type if in Jupyter Notebook environment and previously unregistered\n",
       "  if (root.Jupyter !== undefined) {\n",
       "    var events = require('base/js/events');\n",
       "    var OutputArea = require('notebook/js/outputarea').OutputArea;\n",
       "\n",
       "    if (OutputArea.prototype.mime_types().indexOf(EXEC_MIME_TYPE) == -1) {\n",
       "      register_renderer(events, OutputArea);\n",
       "    }\n",
       "  }\n",
       "\n",
       "  \n",
       "  if (typeof (root._bokeh_timeout) === \"undefined\" || force === true) {\n",
       "    root._bokeh_timeout = Date.now() + 5000;\n",
       "    root._bokeh_failed_load = false;\n",
       "  }\n",
       "\n",
       "  var NB_LOAD_WARNING = {'data': {'text/html':\n",
       "     \"<div style='background-color: #fdd'>\\n\"+\n",
       "     \"<p>\\n\"+\n",
       "     \"BokehJS does not appear to have successfully loaded. If loading BokehJS from CDN, this \\n\"+\n",
       "     \"may be due to a slow or bad network connection. Possible fixes:\\n\"+\n",
       "     \"</p>\\n\"+\n",
       "     \"<ul>\\n\"+\n",
       "     \"<li>re-rerun `output_notebook()` to attempt to load from CDN again, or</li>\\n\"+\n",
       "     \"<li>use INLINE resources instead, as so:</li>\\n\"+\n",
       "     \"</ul>\\n\"+\n",
       "     \"<code>\\n\"+\n",
       "     \"from bokeh.resources import INLINE\\n\"+\n",
       "     \"output_notebook(resources=INLINE)\\n\"+\n",
       "     \"</code>\\n\"+\n",
       "     \"</div>\"}};\n",
       "\n",
       "  function display_loaded() {\n",
       "    var el = document.getElementById(\"1002\");\n",
       "    if (el != null) {\n",
       "      el.textContent = \"BokehJS is loading...\";\n",
       "    }\n",
       "    if (root.Bokeh !== undefined) {\n",
       "      if (el != null) {\n",
       "        el.textContent = \"BokehJS \" + root.Bokeh.version + \" successfully loaded.\";\n",
       "      }\n",
       "    } else if (Date.now() < root._bokeh_timeout) {\n",
       "      setTimeout(display_loaded, 100)\n",
       "    }\n",
       "  }\n",
       "\n",
       "\n",
       "  function run_callbacks() {\n",
       "    try {\n",
       "      root._bokeh_onload_callbacks.forEach(function(callback) {\n",
       "        if (callback != null)\n",
       "          callback();\n",
       "      });\n",
       "    } finally {\n",
       "      delete root._bokeh_onload_callbacks\n",
       "    }\n",
       "    console.debug(\"Bokeh: all callbacks have finished\");\n",
       "  }\n",
       "\n",
       "  function load_libs(css_urls, js_urls, callback) {\n",
       "    if (css_urls == null) css_urls = [];\n",
       "    if (js_urls == null) js_urls = [];\n",
       "\n",
       "    root._bokeh_onload_callbacks.push(callback);\n",
       "    if (root._bokeh_is_loading > 0) {\n",
       "      console.debug(\"Bokeh: BokehJS is being loaded, scheduling callback at\", now());\n",
       "      return null;\n",
       "    }\n",
       "    if (js_urls == null || js_urls.length === 0) {\n",
       "      run_callbacks();\n",
       "      return null;\n",
       "    }\n",
       "    console.debug(\"Bokeh: BokehJS not loaded, scheduling load and callback at\", now());\n",
       "    root._bokeh_is_loading = css_urls.length + js_urls.length;\n",
       "\n",
       "    function on_load() {\n",
       "      root._bokeh_is_loading--;\n",
       "      if (root._bokeh_is_loading === 0) {\n",
       "        console.debug(\"Bokeh: all BokehJS libraries/stylesheets loaded\");\n",
       "        run_callbacks()\n",
       "      }\n",
       "    }\n",
       "\n",
       "    function on_error(url) {\n",
       "      console.error(\"failed to load \" + url);\n",
       "    }\n",
       "\n",
       "    for (let i = 0; i < css_urls.length; i++) {\n",
       "      const url = css_urls[i];\n",
       "      const element = document.createElement(\"link\");\n",
       "      element.onload = on_load;\n",
       "      element.onerror = on_error.bind(null, url);\n",
       "      element.rel = \"stylesheet\";\n",
       "      element.type = \"text/css\";\n",
       "      element.href = url;\n",
       "      console.debug(\"Bokeh: injecting link tag for BokehJS stylesheet: \", url);\n",
       "      document.body.appendChild(element);\n",
       "    }\n",
       "\n",
       "    const hashes = {\"https://cdn.bokeh.org/bokeh/release/bokeh-2.3.2.min.js\": \"XypntL49z55iwGVUW4qsEu83zKL3XEcz0MjuGOQ9SlaaQ68X/g+k1FcioZi7oQAc\", \"https://cdn.bokeh.org/bokeh/release/bokeh-tables-2.3.2.min.js\": \"bEsM86IHGDTLCS0Zod8a8WM6Y4+lafAL/eSiyQcuPzinmWNgNO2/olUF0Z2Dkn5i\", \"https://cdn.bokeh.org/bokeh/release/bokeh-widgets-2.3.2.min.js\": \"TX0gSQTdXTTeScqxj6PVQxTiRW8DOoGVwinyi1D3kxv7wuxQ02XkOxv0xwiypcAH\"};\n",
       "\n",
       "    for (let i = 0; i < js_urls.length; i++) {\n",
       "      const url = js_urls[i];\n",
       "      const element = document.createElement('script');\n",
       "      element.onload = on_load;\n",
       "      element.onerror = on_error.bind(null, url);\n",
       "      element.async = false;\n",
       "      element.src = url;\n",
       "      if (url in hashes) {\n",
       "        element.crossOrigin = \"anonymous\";\n",
       "        element.integrity = \"sha384-\" + hashes[url];\n",
       "      }\n",
       "      console.debug(\"Bokeh: injecting script tag for BokehJS library: \", url);\n",
       "      document.head.appendChild(element);\n",
       "    }\n",
       "  };\n",
       "\n",
       "  function inject_raw_css(css) {\n",
       "    const element = document.createElement(\"style\");\n",
       "    element.appendChild(document.createTextNode(css));\n",
       "    document.body.appendChild(element);\n",
       "  }\n",
       "\n",
       "  \n",
       "  var js_urls = [\"https://cdn.bokeh.org/bokeh/release/bokeh-2.3.2.min.js\", \"https://cdn.bokeh.org/bokeh/release/bokeh-widgets-2.3.2.min.js\", \"https://cdn.bokeh.org/bokeh/release/bokeh-tables-2.3.2.min.js\"];\n",
       "  var css_urls = [];\n",
       "  \n",
       "\n",
       "  var inline_js = [\n",
       "    function(Bokeh) {\n",
       "      Bokeh.set_log_level(\"info\");\n",
       "    },\n",
       "    function(Bokeh) {\n",
       "    \n",
       "    \n",
       "    }\n",
       "  ];\n",
       "\n",
       "  function run_inline_js() {\n",
       "    \n",
       "    if (root.Bokeh !== undefined || force === true) {\n",
       "      \n",
       "    for (var i = 0; i < inline_js.length; i++) {\n",
       "      inline_js[i].call(root, root.Bokeh);\n",
       "    }\n",
       "    if (force === true) {\n",
       "        display_loaded();\n",
       "      }} else if (Date.now() < root._bokeh_timeout) {\n",
       "      setTimeout(run_inline_js, 100);\n",
       "    } else if (!root._bokeh_failed_load) {\n",
       "      console.log(\"Bokeh: BokehJS failed to load within specified timeout.\");\n",
       "      root._bokeh_failed_load = true;\n",
       "    } else if (force !== true) {\n",
       "      var cell = $(document.getElementById(\"1002\")).parents('.cell').data().cell;\n",
       "      cell.output_area.append_execute_result(NB_LOAD_WARNING)\n",
       "    }\n",
       "\n",
       "  }\n",
       "\n",
       "  if (root._bokeh_is_loading === 0) {\n",
       "    console.debug(\"Bokeh: BokehJS loaded, going straight to plotting\");\n",
       "    run_inline_js();\n",
       "  } else {\n",
       "    load_libs(css_urls, js_urls, function() {\n",
       "      console.debug(\"Bokeh: BokehJS plotting callback run at\", now());\n",
       "      run_inline_js();\n",
       "    });\n",
       "  }\n",
       "}(window));"
      ],
      "application/vnd.bokehjs_load.v0+json": "\n(function(root) {\n  function now() {\n    return new Date();\n  }\n\n  var force = true;\n\n  if (typeof root._bokeh_onload_callbacks === \"undefined\" || force === true) {\n    root._bokeh_onload_callbacks = [];\n    root._bokeh_is_loading = undefined;\n  }\n\n  \n\n  \n  if (typeof (root._bokeh_timeout) === \"undefined\" || force === true) {\n    root._bokeh_timeout = Date.now() + 5000;\n    root._bokeh_failed_load = false;\n  }\n\n  var NB_LOAD_WARNING = {'data': {'text/html':\n     \"<div style='background-color: #fdd'>\\n\"+\n     \"<p>\\n\"+\n     \"BokehJS does not appear to have successfully loaded. If loading BokehJS from CDN, this \\n\"+\n     \"may be due to a slow or bad network connection. Possible fixes:\\n\"+\n     \"</p>\\n\"+\n     \"<ul>\\n\"+\n     \"<li>re-rerun `output_notebook()` to attempt to load from CDN again, or</li>\\n\"+\n     \"<li>use INLINE resources instead, as so:</li>\\n\"+\n     \"</ul>\\n\"+\n     \"<code>\\n\"+\n     \"from bokeh.resources import INLINE\\n\"+\n     \"output_notebook(resources=INLINE)\\n\"+\n     \"</code>\\n\"+\n     \"</div>\"}};\n\n  function display_loaded() {\n    var el = document.getElementById(\"1002\");\n    if (el != null) {\n      el.textContent = \"BokehJS is loading...\";\n    }\n    if (root.Bokeh !== undefined) {\n      if (el != null) {\n        el.textContent = \"BokehJS \" + root.Bokeh.version + \" successfully loaded.\";\n      }\n    } else if (Date.now() < root._bokeh_timeout) {\n      setTimeout(display_loaded, 100)\n    }\n  }\n\n\n  function run_callbacks() {\n    try {\n      root._bokeh_onload_callbacks.forEach(function(callback) {\n        if (callback != null)\n          callback();\n      });\n    } finally {\n      delete root._bokeh_onload_callbacks\n    }\n    console.debug(\"Bokeh: all callbacks have finished\");\n  }\n\n  function load_libs(css_urls, js_urls, callback) {\n    if (css_urls == null) css_urls = [];\n    if (js_urls == null) js_urls = [];\n\n    root._bokeh_onload_callbacks.push(callback);\n    if (root._bokeh_is_loading > 0) {\n      console.debug(\"Bokeh: BokehJS is being loaded, scheduling callback at\", now());\n      return null;\n    }\n    if (js_urls == null || js_urls.length === 0) {\n      run_callbacks();\n      return null;\n    }\n    console.debug(\"Bokeh: BokehJS not loaded, scheduling load and callback at\", now());\n    root._bokeh_is_loading = css_urls.length + js_urls.length;\n\n    function on_load() {\n      root._bokeh_is_loading--;\n      if (root._bokeh_is_loading === 0) {\n        console.debug(\"Bokeh: all BokehJS libraries/stylesheets loaded\");\n        run_callbacks()\n      }\n    }\n\n    function on_error(url) {\n      console.error(\"failed to load \" + url);\n    }\n\n    for (let i = 0; i < css_urls.length; i++) {\n      const url = css_urls[i];\n      const element = document.createElement(\"link\");\n      element.onload = on_load;\n      element.onerror = on_error.bind(null, url);\n      element.rel = \"stylesheet\";\n      element.type = \"text/css\";\n      element.href = url;\n      console.debug(\"Bokeh: injecting link tag for BokehJS stylesheet: \", url);\n      document.body.appendChild(element);\n    }\n\n    const hashes = {\"https://cdn.bokeh.org/bokeh/release/bokeh-2.3.2.min.js\": \"XypntL49z55iwGVUW4qsEu83zKL3XEcz0MjuGOQ9SlaaQ68X/g+k1FcioZi7oQAc\", \"https://cdn.bokeh.org/bokeh/release/bokeh-tables-2.3.2.min.js\": \"bEsM86IHGDTLCS0Zod8a8WM6Y4+lafAL/eSiyQcuPzinmWNgNO2/olUF0Z2Dkn5i\", \"https://cdn.bokeh.org/bokeh/release/bokeh-widgets-2.3.2.min.js\": \"TX0gSQTdXTTeScqxj6PVQxTiRW8DOoGVwinyi1D3kxv7wuxQ02XkOxv0xwiypcAH\"};\n\n    for (let i = 0; i < js_urls.length; i++) {\n      const url = js_urls[i];\n      const element = document.createElement('script');\n      element.onload = on_load;\n      element.onerror = on_error.bind(null, url);\n      element.async = false;\n      element.src = url;\n      if (url in hashes) {\n        element.crossOrigin = \"anonymous\";\n        element.integrity = \"sha384-\" + hashes[url];\n      }\n      console.debug(\"Bokeh: injecting script tag for BokehJS library: \", url);\n      document.head.appendChild(element);\n    }\n  };\n\n  function inject_raw_css(css) {\n    const element = document.createElement(\"style\");\n    element.appendChild(document.createTextNode(css));\n    document.body.appendChild(element);\n  }\n\n  \n  var js_urls = [\"https://cdn.bokeh.org/bokeh/release/bokeh-2.3.2.min.js\", \"https://cdn.bokeh.org/bokeh/release/bokeh-widgets-2.3.2.min.js\", \"https://cdn.bokeh.org/bokeh/release/bokeh-tables-2.3.2.min.js\"];\n  var css_urls = [];\n  \n\n  var inline_js = [\n    function(Bokeh) {\n      Bokeh.set_log_level(\"info\");\n    },\n    function(Bokeh) {\n    \n    \n    }\n  ];\n\n  function run_inline_js() {\n    \n    if (root.Bokeh !== undefined || force === true) {\n      \n    for (var i = 0; i < inline_js.length; i++) {\n      inline_js[i].call(root, root.Bokeh);\n    }\n    if (force === true) {\n        display_loaded();\n      }} else if (Date.now() < root._bokeh_timeout) {\n      setTimeout(run_inline_js, 100);\n    } else if (!root._bokeh_failed_load) {\n      console.log(\"Bokeh: BokehJS failed to load within specified timeout.\");\n      root._bokeh_failed_load = true;\n    } else if (force !== true) {\n      var cell = $(document.getElementById(\"1002\")).parents('.cell').data().cell;\n      cell.output_area.append_execute_result(NB_LOAD_WARNING)\n    }\n\n  }\n\n  if (root._bokeh_is_loading === 0) {\n    console.debug(\"Bokeh: BokehJS loaded, going straight to plotting\");\n    run_inline_js();\n  } else {\n    load_libs(css_urls, js_urls, function() {\n      console.debug(\"Bokeh: BokehJS plotting callback run at\", now());\n      run_inline_js();\n    });\n  }\n}(window));"
     },
     "metadata": {},
     "output_type": "display_data"
    }
   ],
   "source": [
    "# This project will require a number of libraries to run multiple tests and visual representations.\n",
    "# Hence, the need to import the codes below\n",
    "\n",
    "import pandas as pd\n",
    "import numpy as np\n",
    "import matplotlib.pyplot as plt\n",
    "%matplotlib inline\n",
    "import statsmodels.api as sm\n",
    "import seaborn as sns\n",
    "from bokeh.plotting import figure\n",
    "from bokeh.io import show\n",
    "from bokeh.io import output_notebook\n",
    "output_notebook()\n",
    "import seaborn as sb\n",
    "import matplotlib.pyplot as plt\n",
    "from scipy import stats\n",
    "import sys"
   ]
  },
  {
   "cell_type": "code",
   "execution_count": 6,
   "id": "e56da956",
   "metadata": {},
   "outputs": [
    {
     "data": {
      "text/html": [
       "<div>\n",
       "<style scoped>\n",
       "    .dataframe tbody tr th:only-of-type {\n",
       "        vertical-align: middle;\n",
       "    }\n",
       "\n",
       "    .dataframe tbody tr th {\n",
       "        vertical-align: top;\n",
       "    }\n",
       "\n",
       "    .dataframe thead th {\n",
       "        text-align: right;\n",
       "    }\n",
       "</style>\n",
       "<table border=\"1\" class=\"dataframe\">\n",
       "  <thead>\n",
       "    <tr style=\"text-align: right;\">\n",
       "      <th></th>\n",
       "      <th>married</th>\n",
       "      <th>hourly_wage</th>\n",
       "      <th>years_in_education</th>\n",
       "      <th>years_in_employment</th>\n",
       "      <th>num_dependents</th>\n",
       "      <th>gender</th>\n",
       "      <th>race</th>\n",
       "    </tr>\n",
       "  </thead>\n",
       "  <tbody>\n",
       "    <tr>\n",
       "      <th>0</th>\n",
       "      <td>1.0</td>\n",
       "      <td>3.24</td>\n",
       "      <td>12.0</td>\n",
       "      <td>2.0</td>\n",
       "      <td>3.0</td>\n",
       "      <td>female</td>\n",
       "      <td>white</td>\n",
       "    </tr>\n",
       "    <tr>\n",
       "      <th>1</th>\n",
       "      <td>0.0</td>\n",
       "      <td>3.00</td>\n",
       "      <td>11.0</td>\n",
       "      <td>0.0</td>\n",
       "      <td>2.0</td>\n",
       "      <td>male</td>\n",
       "      <td>white</td>\n",
       "    </tr>\n",
       "    <tr>\n",
       "      <th>2</th>\n",
       "      <td>1.0</td>\n",
       "      <td>6.00</td>\n",
       "      <td>8.0</td>\n",
       "      <td>28.0</td>\n",
       "      <td>0.0</td>\n",
       "      <td>male</td>\n",
       "      <td>white</td>\n",
       "    </tr>\n",
       "    <tr>\n",
       "      <th>3</th>\n",
       "      <td>1.0</td>\n",
       "      <td>5.30</td>\n",
       "      <td>12.0</td>\n",
       "      <td>2.0</td>\n",
       "      <td>1.0</td>\n",
       "      <td>male</td>\n",
       "      <td>white</td>\n",
       "    </tr>\n",
       "    <tr>\n",
       "      <th>4</th>\n",
       "      <td>1.0</td>\n",
       "      <td>8.75</td>\n",
       "      <td>16.0</td>\n",
       "      <td>8.0</td>\n",
       "      <td>0.0</td>\n",
       "      <td>male</td>\n",
       "      <td>white</td>\n",
       "    </tr>\n",
       "  </tbody>\n",
       "</table>\n",
       "</div>"
      ],
      "text/plain": [
       "   married  hourly_wage  years_in_education  years_in_employment  \\\n",
       "0      1.0         3.24                12.0                  2.0   \n",
       "1      0.0         3.00                11.0                  0.0   \n",
       "2      1.0         6.00                 8.0                 28.0   \n",
       "3      1.0         5.30                12.0                  2.0   \n",
       "4      1.0         8.75                16.0                  8.0   \n",
       "\n",
       "   num_dependents  gender   race  \n",
       "0             3.0  female  white  \n",
       "1             2.0    male  white  \n",
       "2             0.0    male  white  \n",
       "3             1.0    male  white  \n",
       "4             0.0    male  white  "
      ]
     },
     "execution_count": 6,
     "metadata": {},
     "output_type": "execute_result"
    }
   ],
   "source": [
    "# Creates a dataframe and read the dataset\n",
    "df=pd.read_csv(\"wages.csv\") \n",
    "df.head()"
   ]
  },
  {
   "cell_type": "code",
   "execution_count": 7,
   "id": "291efcd3",
   "metadata": {},
   "outputs": [
    {
     "name": "stdout",
     "output_type": "stream",
     "text": [
      "<class 'pandas.core.frame.DataFrame'>\n",
      "RangeIndex: 525 entries, 0 to 524\n",
      "Data columns (total 7 columns):\n",
      " #   Column               Non-Null Count  Dtype  \n",
      "---  ------               --------------  -----  \n",
      " 0   married              522 non-null    float64\n",
      " 1   hourly_wage          517 non-null    float64\n",
      " 2   years_in_education   522 non-null    float64\n",
      " 3   years_in_employment  519 non-null    float64\n",
      " 4   num_dependents       520 non-null    float64\n",
      " 5   gender               521 non-null    object \n",
      " 6   race                 515 non-null    object \n",
      "dtypes: float64(5), object(2)\n",
      "memory usage: 28.8+ KB\n"
     ]
    }
   ],
   "source": [
    "# Running a display descriptive to display all the data set to understand the data\n",
    "\n",
    "df.info()"
   ]
  },
  {
   "cell_type": "markdown",
   "id": "41586867",
   "metadata": {},
   "source": [
    "# Question 1\n",
    "Display the descriptive statistics on the dataset"
   ]
  },
  {
   "cell_type": "code",
   "execution_count": 8,
   "id": "ff252313",
   "metadata": {},
   "outputs": [
    {
     "data": {
      "text/html": [
       "<div>\n",
       "<style scoped>\n",
       "    .dataframe tbody tr th:only-of-type {\n",
       "        vertical-align: middle;\n",
       "    }\n",
       "\n",
       "    .dataframe tbody tr th {\n",
       "        vertical-align: top;\n",
       "    }\n",
       "\n",
       "    .dataframe thead th {\n",
       "        text-align: right;\n",
       "    }\n",
       "</style>\n",
       "<table border=\"1\" class=\"dataframe\">\n",
       "  <thead>\n",
       "    <tr style=\"text-align: right;\">\n",
       "      <th></th>\n",
       "      <th>count</th>\n",
       "      <th>mean</th>\n",
       "      <th>std</th>\n",
       "      <th>min</th>\n",
       "      <th>25%</th>\n",
       "      <th>50%</th>\n",
       "      <th>75%</th>\n",
       "      <th>max</th>\n",
       "    </tr>\n",
       "  </thead>\n",
       "  <tbody>\n",
       "    <tr>\n",
       "      <th>married</th>\n",
       "      <td>522.0</td>\n",
       "      <td>0.609195</td>\n",
       "      <td>0.488399</td>\n",
       "      <td>0.00</td>\n",
       "      <td>0.00</td>\n",
       "      <td>1.00</td>\n",
       "      <td>1.00</td>\n",
       "      <td>1.00</td>\n",
       "    </tr>\n",
       "    <tr>\n",
       "      <th>hourly_wage</th>\n",
       "      <td>517.0</td>\n",
       "      <td>5.917737</td>\n",
       "      <td>3.699058</td>\n",
       "      <td>0.53</td>\n",
       "      <td>3.35</td>\n",
       "      <td>4.67</td>\n",
       "      <td>6.88</td>\n",
       "      <td>24.98</td>\n",
       "    </tr>\n",
       "    <tr>\n",
       "      <th>years_in_education</th>\n",
       "      <td>522.0</td>\n",
       "      <td>12.557471</td>\n",
       "      <td>2.757219</td>\n",
       "      <td>0.00</td>\n",
       "      <td>12.00</td>\n",
       "      <td>12.00</td>\n",
       "      <td>14.00</td>\n",
       "      <td>18.00</td>\n",
       "    </tr>\n",
       "    <tr>\n",
       "      <th>years_in_employment</th>\n",
       "      <td>519.0</td>\n",
       "      <td>5.152216</td>\n",
       "      <td>7.257133</td>\n",
       "      <td>0.00</td>\n",
       "      <td>0.00</td>\n",
       "      <td>2.00</td>\n",
       "      <td>7.00</td>\n",
       "      <td>44.00</td>\n",
       "    </tr>\n",
       "    <tr>\n",
       "      <th>num_dependents</th>\n",
       "      <td>520.0</td>\n",
       "      <td>1.044231</td>\n",
       "      <td>1.258484</td>\n",
       "      <td>0.00</td>\n",
       "      <td>0.00</td>\n",
       "      <td>1.00</td>\n",
       "      <td>2.00</td>\n",
       "      <td>6.00</td>\n",
       "    </tr>\n",
       "  </tbody>\n",
       "</table>\n",
       "</div>"
      ],
      "text/plain": [
       "                     count       mean       std   min    25%    50%    75%  \\\n",
       "married              522.0   0.609195  0.488399  0.00   0.00   1.00   1.00   \n",
       "hourly_wage          517.0   5.917737  3.699058  0.53   3.35   4.67   6.88   \n",
       "years_in_education   522.0  12.557471  2.757219  0.00  12.00  12.00  14.00   \n",
       "years_in_employment  519.0   5.152216  7.257133  0.00   0.00   2.00   7.00   \n",
       "num_dependents       520.0   1.044231  1.258484  0.00   0.00   1.00   2.00   \n",
       "\n",
       "                       max  \n",
       "married               1.00  \n",
       "hourly_wage          24.98  \n",
       "years_in_education   18.00  \n",
       "years_in_employment  44.00  \n",
       "num_dependents        6.00  "
      ]
     },
     "execution_count": 8,
     "metadata": {},
     "output_type": "execute_result"
    }
   ],
   "source": [
    "#Analyses the numeric columns\n",
    "df.describe().T "
   ]
  },
  {
   "cell_type": "code",
   "execution_count": 9,
   "id": "b88f9a75",
   "metadata": {},
   "outputs": [
    {
     "data": {
      "text/html": [
       "<div>\n",
       "<style scoped>\n",
       "    .dataframe tbody tr th:only-of-type {\n",
       "        vertical-align: middle;\n",
       "    }\n",
       "\n",
       "    .dataframe tbody tr th {\n",
       "        vertical-align: top;\n",
       "    }\n",
       "\n",
       "    .dataframe thead th {\n",
       "        text-align: right;\n",
       "    }\n",
       "</style>\n",
       "<table border=\"1\" class=\"dataframe\">\n",
       "  <thead>\n",
       "    <tr style=\"text-align: right;\">\n",
       "      <th></th>\n",
       "      <th>married</th>\n",
       "      <th>hourly_wage</th>\n",
       "      <th>years_in_education</th>\n",
       "      <th>years_in_employment</th>\n",
       "      <th>num_dependents</th>\n",
       "      <th>gender</th>\n",
       "      <th>race</th>\n",
       "    </tr>\n",
       "  </thead>\n",
       "  <tbody>\n",
       "    <tr>\n",
       "      <th>count</th>\n",
       "      <td>522.000000</td>\n",
       "      <td>517.000000</td>\n",
       "      <td>522.000000</td>\n",
       "      <td>519.000000</td>\n",
       "      <td>520.000000</td>\n",
       "      <td>521</td>\n",
       "      <td>515</td>\n",
       "    </tr>\n",
       "    <tr>\n",
       "      <th>unique</th>\n",
       "      <td>NaN</td>\n",
       "      <td>NaN</td>\n",
       "      <td>NaN</td>\n",
       "      <td>NaN</td>\n",
       "      <td>NaN</td>\n",
       "      <td>2</td>\n",
       "      <td>2</td>\n",
       "    </tr>\n",
       "    <tr>\n",
       "      <th>top</th>\n",
       "      <td>NaN</td>\n",
       "      <td>NaN</td>\n",
       "      <td>NaN</td>\n",
       "      <td>NaN</td>\n",
       "      <td>NaN</td>\n",
       "      <td>male</td>\n",
       "      <td>white</td>\n",
       "    </tr>\n",
       "    <tr>\n",
       "      <th>freq</th>\n",
       "      <td>NaN</td>\n",
       "      <td>NaN</td>\n",
       "      <td>NaN</td>\n",
       "      <td>NaN</td>\n",
       "      <td>NaN</td>\n",
       "      <td>272</td>\n",
       "      <td>461</td>\n",
       "    </tr>\n",
       "    <tr>\n",
       "      <th>mean</th>\n",
       "      <td>0.609195</td>\n",
       "      <td>5.917737</td>\n",
       "      <td>12.557471</td>\n",
       "      <td>5.152216</td>\n",
       "      <td>1.044231</td>\n",
       "      <td>NaN</td>\n",
       "      <td>NaN</td>\n",
       "    </tr>\n",
       "    <tr>\n",
       "      <th>std</th>\n",
       "      <td>0.488399</td>\n",
       "      <td>3.699058</td>\n",
       "      <td>2.757219</td>\n",
       "      <td>7.257133</td>\n",
       "      <td>1.258484</td>\n",
       "      <td>NaN</td>\n",
       "      <td>NaN</td>\n",
       "    </tr>\n",
       "    <tr>\n",
       "      <th>min</th>\n",
       "      <td>0.000000</td>\n",
       "      <td>0.530000</td>\n",
       "      <td>0.000000</td>\n",
       "      <td>0.000000</td>\n",
       "      <td>0.000000</td>\n",
       "      <td>NaN</td>\n",
       "      <td>NaN</td>\n",
       "    </tr>\n",
       "    <tr>\n",
       "      <th>25%</th>\n",
       "      <td>0.000000</td>\n",
       "      <td>3.350000</td>\n",
       "      <td>12.000000</td>\n",
       "      <td>0.000000</td>\n",
       "      <td>0.000000</td>\n",
       "      <td>NaN</td>\n",
       "      <td>NaN</td>\n",
       "    </tr>\n",
       "    <tr>\n",
       "      <th>50%</th>\n",
       "      <td>1.000000</td>\n",
       "      <td>4.670000</td>\n",
       "      <td>12.000000</td>\n",
       "      <td>2.000000</td>\n",
       "      <td>1.000000</td>\n",
       "      <td>NaN</td>\n",
       "      <td>NaN</td>\n",
       "    </tr>\n",
       "    <tr>\n",
       "      <th>75%</th>\n",
       "      <td>1.000000</td>\n",
       "      <td>6.880000</td>\n",
       "      <td>14.000000</td>\n",
       "      <td>7.000000</td>\n",
       "      <td>2.000000</td>\n",
       "      <td>NaN</td>\n",
       "      <td>NaN</td>\n",
       "    </tr>\n",
       "    <tr>\n",
       "      <th>max</th>\n",
       "      <td>1.000000</td>\n",
       "      <td>24.980000</td>\n",
       "      <td>18.000000</td>\n",
       "      <td>44.000000</td>\n",
       "      <td>6.000000</td>\n",
       "      <td>NaN</td>\n",
       "      <td>NaN</td>\n",
       "    </tr>\n",
       "  </tbody>\n",
       "</table>\n",
       "</div>"
      ],
      "text/plain": [
       "           married  hourly_wage  years_in_education  years_in_employment  \\\n",
       "count   522.000000   517.000000          522.000000           519.000000   \n",
       "unique         NaN          NaN                 NaN                  NaN   \n",
       "top            NaN          NaN                 NaN                  NaN   \n",
       "freq           NaN          NaN                 NaN                  NaN   \n",
       "mean      0.609195     5.917737           12.557471             5.152216   \n",
       "std       0.488399     3.699058            2.757219             7.257133   \n",
       "min       0.000000     0.530000            0.000000             0.000000   \n",
       "25%       0.000000     3.350000           12.000000             0.000000   \n",
       "50%       1.000000     4.670000           12.000000             2.000000   \n",
       "75%       1.000000     6.880000           14.000000             7.000000   \n",
       "max       1.000000    24.980000           18.000000            44.000000   \n",
       "\n",
       "        num_dependents gender   race  \n",
       "count       520.000000    521    515  \n",
       "unique             NaN      2      2  \n",
       "top                NaN   male  white  \n",
       "freq               NaN    272    461  \n",
       "mean          1.044231    NaN    NaN  \n",
       "std           1.258484    NaN    NaN  \n",
       "min           0.000000    NaN    NaN  \n",
       "25%           0.000000    NaN    NaN  \n",
       "50%           1.000000    NaN    NaN  \n",
       "75%           2.000000    NaN    NaN  \n",
       "max           6.000000    NaN    NaN  "
      ]
     },
     "execution_count": 9,
     "metadata": {},
     "output_type": "execute_result"
    }
   ],
   "source": [
    "#Displays the descriptive data \n",
    "df.describe(include='all')"
   ]
  },
  {
   "cell_type": "markdown",
   "id": "6a862905",
   "metadata": {},
   "source": [
    "## Question 2\n",
    "Check for missing values and handle appropriately"
   ]
  },
  {
   "cell_type": "code",
   "execution_count": 10,
   "id": "9eb81e69",
   "metadata": {},
   "outputs": [
    {
     "data": {
      "text/plain": [
       "married                 3\n",
       "hourly_wage             8\n",
       "years_in_education      3\n",
       "years_in_employment     6\n",
       "num_dependents          5\n",
       "gender                  4\n",
       "race                   10\n",
       "dtype: int64"
      ]
     },
     "execution_count": 10,
     "metadata": {},
     "output_type": "execute_result"
    }
   ],
   "source": [
    "# Checks for missing data in dataset\n",
    "df.isnull().sum()"
   ]
  },
  {
   "cell_type": "code",
   "execution_count": 13,
   "id": "15f89891",
   "metadata": {},
   "outputs": [],
   "source": [
    "# Replaces the missing numeric data with the mean.\n",
    "sorted_df = df\n",
    "sorted_df['hourly_wage'] = sorted_df['hourly_wage'].fillna(sorted_df.hourly_wage.mean())\n",
    "sorted_df['years_in_education'] = sorted_df['years_in_education'].fillna(sorted_df.years_in_education.mean())\n",
    "sorted_df['years_in_employment'] = sorted_df['years_in_employment'].fillna(sorted_df.years_in_employment.mean())\n",
    "sorted_df['num_dependents'] = sorted_df['num_dependents'].fillna(sorted_df.num_dependents.mean())\n"
   ]
  },
  {
   "cell_type": "code",
   "execution_count": 14,
   "id": "362b3aaa",
   "metadata": {},
   "outputs": [
    {
     "name": "stdout",
     "output_type": "stream",
     "text": [
      "married                 3\n",
      "hourly_wage             0\n",
      "years_in_education      0\n",
      "years_in_employment     0\n",
      "num_dependents          0\n",
      "gender                  4\n",
      "race                   10\n",
      "dtype: int64\n"
     ]
    }
   ],
   "source": [
    "print(df.isnull().sum())"
   ]
  },
  {
   "cell_type": "code",
   "execution_count": 15,
   "id": "c4af913c",
   "metadata": {},
   "outputs": [],
   "source": [
    "# Replaces the missing text.\n",
    "gender_mode = sorted_df.gender.mode()[0]\n",
    "sorted_df.gender.fillna(gender_mode, inplace=True)\n",
    "race_mode = sorted_df.race.mode()[0]\n",
    "sorted_df.race.fillna(race_mode, inplace=True)"
   ]
  },
  {
   "cell_type": "code",
   "execution_count": 17,
   "id": "b605f0b9",
   "metadata": {},
   "outputs": [],
   "source": [
    "sorted_df.married.fillna(sorted_df.married.mode()[0], inplace=True)"
   ]
  },
  {
   "cell_type": "code",
   "execution_count": 18,
   "id": "4034fa82",
   "metadata": {},
   "outputs": [
    {
     "name": "stdout",
     "output_type": "stream",
     "text": [
      "married                0\n",
      "hourly_wage            0\n",
      "years_in_education     0\n",
      "years_in_employment    0\n",
      "num_dependents         0\n",
      "gender                 0\n",
      "race                   0\n",
      "dtype: int64\n"
     ]
    }
   ],
   "source": [
    "print(df.isnull().sum())"
   ]
  },
  {
   "cell_type": "code",
   "execution_count": 19,
   "id": "c09bc706",
   "metadata": {},
   "outputs": [
    {
     "name": "stdout",
     "output_type": "stream",
     "text": [
      "<class 'pandas.core.frame.DataFrame'>\n",
      "RangeIndex: 525 entries, 0 to 524\n",
      "Data columns (total 7 columns):\n",
      " #   Column               Non-Null Count  Dtype  \n",
      "---  ------               --------------  -----  \n",
      " 0   married              525 non-null    float64\n",
      " 1   hourly_wage          525 non-null    float64\n",
      " 2   years_in_education   525 non-null    float64\n",
      " 3   years_in_employment  525 non-null    float64\n",
      " 4   num_dependents       525 non-null    float64\n",
      " 5   gender               525 non-null    object \n",
      " 6   race                 525 non-null    object \n",
      "dtypes: float64(5), object(2)\n",
      "memory usage: 28.8+ KB\n"
     ]
    }
   ],
   "source": [
    "df.info()"
   ]
  },
  {
   "cell_type": "code",
   "execution_count": 20,
   "id": "81ff021c",
   "metadata": {},
   "outputs": [
    {
     "data": {
      "text/html": [
       "<div>\n",
       "<style scoped>\n",
       "    .dataframe tbody tr th:only-of-type {\n",
       "        vertical-align: middle;\n",
       "    }\n",
       "\n",
       "    .dataframe tbody tr th {\n",
       "        vertical-align: top;\n",
       "    }\n",
       "\n",
       "    .dataframe thead th {\n",
       "        text-align: right;\n",
       "    }\n",
       "</style>\n",
       "<table border=\"1\" class=\"dataframe\">\n",
       "  <thead>\n",
       "    <tr style=\"text-align: right;\">\n",
       "      <th></th>\n",
       "      <th>married</th>\n",
       "      <th>hourly_wage</th>\n",
       "      <th>years_in_education</th>\n",
       "      <th>years_in_employment</th>\n",
       "      <th>num_dependents</th>\n",
       "      <th>gender</th>\n",
       "      <th>race</th>\n",
       "    </tr>\n",
       "  </thead>\n",
       "  <tbody>\n",
       "    <tr>\n",
       "      <th>count</th>\n",
       "      <td>525.000000</td>\n",
       "      <td>525.000000</td>\n",
       "      <td>525.000000</td>\n",
       "      <td>525.000000</td>\n",
       "      <td>525.000000</td>\n",
       "      <td>525</td>\n",
       "      <td>525</td>\n",
       "    </tr>\n",
       "    <tr>\n",
       "      <th>unique</th>\n",
       "      <td>NaN</td>\n",
       "      <td>NaN</td>\n",
       "      <td>NaN</td>\n",
       "      <td>NaN</td>\n",
       "      <td>NaN</td>\n",
       "      <td>2</td>\n",
       "      <td>2</td>\n",
       "    </tr>\n",
       "    <tr>\n",
       "      <th>top</th>\n",
       "      <td>NaN</td>\n",
       "      <td>NaN</td>\n",
       "      <td>NaN</td>\n",
       "      <td>NaN</td>\n",
       "      <td>NaN</td>\n",
       "      <td>male</td>\n",
       "      <td>white</td>\n",
       "    </tr>\n",
       "    <tr>\n",
       "      <th>freq</th>\n",
       "      <td>NaN</td>\n",
       "      <td>NaN</td>\n",
       "      <td>NaN</td>\n",
       "      <td>NaN</td>\n",
       "      <td>NaN</td>\n",
       "      <td>276</td>\n",
       "      <td>471</td>\n",
       "    </tr>\n",
       "    <tr>\n",
       "      <th>mean</th>\n",
       "      <td>0.611429</td>\n",
       "      <td>5.917737</td>\n",
       "      <td>12.557471</td>\n",
       "      <td>5.152216</td>\n",
       "      <td>1.044231</td>\n",
       "      <td>NaN</td>\n",
       "      <td>NaN</td>\n",
       "    </tr>\n",
       "    <tr>\n",
       "      <th>std</th>\n",
       "      <td>0.487890</td>\n",
       "      <td>3.670713</td>\n",
       "      <td>2.749315</td>\n",
       "      <td>7.215465</td>\n",
       "      <td>1.252465</td>\n",
       "      <td>NaN</td>\n",
       "      <td>NaN</td>\n",
       "    </tr>\n",
       "    <tr>\n",
       "      <th>min</th>\n",
       "      <td>0.000000</td>\n",
       "      <td>0.530000</td>\n",
       "      <td>0.000000</td>\n",
       "      <td>0.000000</td>\n",
       "      <td>0.000000</td>\n",
       "      <td>NaN</td>\n",
       "      <td>NaN</td>\n",
       "    </tr>\n",
       "    <tr>\n",
       "      <th>25%</th>\n",
       "      <td>0.000000</td>\n",
       "      <td>3.350000</td>\n",
       "      <td>12.000000</td>\n",
       "      <td>0.000000</td>\n",
       "      <td>0.000000</td>\n",
       "      <td>NaN</td>\n",
       "      <td>NaN</td>\n",
       "    </tr>\n",
       "    <tr>\n",
       "      <th>50%</th>\n",
       "      <td>1.000000</td>\n",
       "      <td>4.720000</td>\n",
       "      <td>12.000000</td>\n",
       "      <td>2.000000</td>\n",
       "      <td>1.000000</td>\n",
       "      <td>NaN</td>\n",
       "      <td>NaN</td>\n",
       "    </tr>\n",
       "    <tr>\n",
       "      <th>75%</th>\n",
       "      <td>1.000000</td>\n",
       "      <td>6.880000</td>\n",
       "      <td>14.000000</td>\n",
       "      <td>7.000000</td>\n",
       "      <td>2.000000</td>\n",
       "      <td>NaN</td>\n",
       "      <td>NaN</td>\n",
       "    </tr>\n",
       "    <tr>\n",
       "      <th>max</th>\n",
       "      <td>1.000000</td>\n",
       "      <td>24.980000</td>\n",
       "      <td>18.000000</td>\n",
       "      <td>44.000000</td>\n",
       "      <td>6.000000</td>\n",
       "      <td>NaN</td>\n",
       "      <td>NaN</td>\n",
       "    </tr>\n",
       "  </tbody>\n",
       "</table>\n",
       "</div>"
      ],
      "text/plain": [
       "           married  hourly_wage  years_in_education  years_in_employment  \\\n",
       "count   525.000000   525.000000          525.000000           525.000000   \n",
       "unique         NaN          NaN                 NaN                  NaN   \n",
       "top            NaN          NaN                 NaN                  NaN   \n",
       "freq           NaN          NaN                 NaN                  NaN   \n",
       "mean      0.611429     5.917737           12.557471             5.152216   \n",
       "std       0.487890     3.670713            2.749315             7.215465   \n",
       "min       0.000000     0.530000            0.000000             0.000000   \n",
       "25%       0.000000     3.350000           12.000000             0.000000   \n",
       "50%       1.000000     4.720000           12.000000             2.000000   \n",
       "75%       1.000000     6.880000           14.000000             7.000000   \n",
       "max       1.000000    24.980000           18.000000            44.000000   \n",
       "\n",
       "        num_dependents gender   race  \n",
       "count       525.000000    525    525  \n",
       "unique             NaN      2      2  \n",
       "top                NaN   male  white  \n",
       "freq               NaN    276    471  \n",
       "mean          1.044231    NaN    NaN  \n",
       "std           1.252465    NaN    NaN  \n",
       "min           0.000000    NaN    NaN  \n",
       "25%           0.000000    NaN    NaN  \n",
       "50%           1.000000    NaN    NaN  \n",
       "75%           2.000000    NaN    NaN  \n",
       "max           6.000000    NaN    NaN  "
      ]
     },
     "execution_count": 20,
     "metadata": {},
     "output_type": "execute_result"
    }
   ],
   "source": [
    "#Displays the descriptive data\n",
    "\n",
    "df.describe(include='all')"
   ]
  },
  {
   "cell_type": "code",
   "execution_count": 21,
   "id": "a137d59d",
   "metadata": {},
   "outputs": [
    {
     "data": {
      "text/plain": [
       "<AxesSubplot:>"
      ]
     },
     "execution_count": 21,
     "metadata": {},
     "output_type": "execute_result"
    },
    {
     "data": {
      "image/png": "[encoded data removed]",
      "text/plain": [
       "<Figure size 432x288 with 1 Axes>"
      ]
     },
     "metadata": {
      "needs_background": "light"
     },
     "output_type": "display_data"
    }
   ],
   "source": [
    "# Displays racial distribution  \n",
    "sorted_df.race.value_counts(normalize=True).plot.barh()"
   ]
  },
  {
   "cell_type": "markdown",
   "id": "aee5056f",
   "metadata": {},
   "source": [
    "## Question 3\n",
    "Build a graph visualizing the distribution between of one or more independent continuous variables."
   ]
  },
  {
   "cell_type": "code",
   "execution_count": 23,
   "id": "3d0f8df3",
   "metadata": {},
   "outputs": [
    {
     "data": {
      "text/plain": [
       "array([[<AxesSubplot:title={'center':'hourly_wage'}>,\n",
       "        <AxesSubplot:title={'center':'years_in_education'}>],\n",
       "       [<AxesSubplot:title={'center':'num_dependents'}>, <AxesSubplot:>]],\n",
       "      dtype=object)"
      ]
     },
     "execution_count": 23,
     "metadata": {},
     "output_type": "execute_result"
    },
    {
     "data": {
      "image/png": "[encoded data removed]",
      "text/plain": [
       "<Figure size 1008x432 with 4 Axes>"
      ]
     },
     "metadata": {
      "needs_background": "light"
     },
     "output_type": "display_data"
    }
   ],
   "source": [
    "sorted_df.hist(column=['hourly_wage', 'years_in_education', 'num_dependents'], bins=5, figsize=(14,6))"
   ]
  },
  {
   "cell_type": "code",
   "execution_count": 24,
   "id": "f5fbcc69",
   "metadata": {},
   "outputs": [
    {
     "data": {
      "image/png": "[encoded data removed]",
      "text/plain": [
       "<Figure size 432x288 with 1 Axes>"
      ]
     },
     "metadata": {
      "needs_background": "light"
     },
     "output_type": "display_data"
    }
   ],
   "source": [
    "sns.histplot(x='hourly_wage', data=df,kde = True)\n",
    "plt.show()"
   ]
  },
  {
   "cell_type": "markdown",
   "id": "adaf1dbc",
   "metadata": {},
   "source": [
    "## Question 4\n",
    "Build a graph visualizing the relationship in a pair of continuous variables. Determine the correlation between them."
   ]
  },
  {
   "cell_type": "code",
   "execution_count": 34,
   "id": "d49ffd69",
   "metadata": {},
   "outputs": [
    {
     "data": {
      "image/png": "[encoded data removed]",
      "text/plain": [
       "<Figure size 432x288 with 1 Axes>"
      ]
     },
     "metadata": {
      "needs_background": "light"
     },
     "output_type": "display_data"
    }
   ],
   "source": [
    "#Creates scatter plot that shows relationship between hourly wages and years of employment\n",
    "plt.scatter(sorted_df.hourly_wage, sorted_df.years_in_employment, color = 'brown')\n",
    "plt.show()"
   ]
  },
  {
   "cell_type": "code",
   "execution_count": 35,
   "id": "55872712",
   "metadata": {},
   "outputs": [
    {
     "data": {
      "text/html": [
       "<div>\n",
       "<style scoped>\n",
       "    .dataframe tbody tr th:only-of-type {\n",
       "        vertical-align: middle;\n",
       "    }\n",
       "\n",
       "    .dataframe tbody tr th {\n",
       "        vertical-align: top;\n",
       "    }\n",
       "\n",
       "    .dataframe thead th {\n",
       "        text-align: right;\n",
       "    }\n",
       "</style>\n",
       "<table border=\"1\" class=\"dataframe\">\n",
       "  <thead>\n",
       "    <tr style=\"text-align: right;\">\n",
       "      <th></th>\n",
       "      <th>married</th>\n",
       "      <th>hourly_wage</th>\n",
       "      <th>years_in_education</th>\n",
       "      <th>years_in_employment</th>\n",
       "      <th>num_dependents</th>\n",
       "    </tr>\n",
       "  </thead>\n",
       "  <tbody>\n",
       "    <tr>\n",
       "      <th>married</th>\n",
       "      <td>1.000000</td>\n",
       "      <td>0.232901</td>\n",
       "      <td>0.065053</td>\n",
       "      <td>0.238389</td>\n",
       "      <td>0.146442</td>\n",
       "    </tr>\n",
       "    <tr>\n",
       "      <th>hourly_wage</th>\n",
       "      <td>0.232901</td>\n",
       "      <td>1.000000</td>\n",
       "      <td>0.388620</td>\n",
       "      <td>0.340975</td>\n",
       "      <td>-0.047308</td>\n",
       "    </tr>\n",
       "    <tr>\n",
       "      <th>years_in_education</th>\n",
       "      <td>0.065053</td>\n",
       "      <td>0.388620</td>\n",
       "      <td>1.000000</td>\n",
       "      <td>-0.063015</td>\n",
       "      <td>-0.218630</td>\n",
       "    </tr>\n",
       "    <tr>\n",
       "      <th>years_in_employment</th>\n",
       "      <td>0.238389</td>\n",
       "      <td>0.340975</td>\n",
       "      <td>-0.063015</td>\n",
       "      <td>1.000000</td>\n",
       "      <td>-0.017051</td>\n",
       "    </tr>\n",
       "    <tr>\n",
       "      <th>num_dependents</th>\n",
       "      <td>0.146442</td>\n",
       "      <td>-0.047308</td>\n",
       "      <td>-0.218630</td>\n",
       "      <td>-0.017051</td>\n",
       "      <td>1.000000</td>\n",
       "    </tr>\n",
       "  </tbody>\n",
       "</table>\n",
       "</div>"
      ],
      "text/plain": [
       "                      married  hourly_wage  years_in_education  \\\n",
       "married              1.000000     0.232901            0.065053   \n",
       "hourly_wage          0.232901     1.000000            0.388620   \n",
       "years_in_education   0.065053     0.388620            1.000000   \n",
       "years_in_employment  0.238389     0.340975           -0.063015   \n",
       "num_dependents       0.146442    -0.047308           -0.218630   \n",
       "\n",
       "                     years_in_employment  num_dependents  \n",
       "married                         0.238389        0.146442  \n",
       "hourly_wage                     0.340975       -0.047308  \n",
       "years_in_education             -0.063015       -0.218630  \n",
       "years_in_employment             1.000000       -0.017051  \n",
       "num_dependents                 -0.017051        1.000000  "
      ]
     },
     "execution_count": 35,
     "metadata": {},
     "output_type": "execute_result"
    }
   ],
   "source": [
    "#Shows correlation between different datasets\n",
    "df.corr()"
   ]
  },
  {
   "cell_type": "code",
   "execution_count": 36,
   "id": "678b5600",
   "metadata": {},
   "outputs": [
    {
     "data": {
      "text/plain": [
       "0.34097528485222733"
      ]
     },
     "execution_count": 36,
     "metadata": {},
     "output_type": "execute_result"
    }
   ],
   "source": [
    "#Selects the correlation between years in employment and hourly wage\n",
    "sorted_df['years_in_employment'].corr(sorted_df['hourly_wage'], method='pearson')"
   ]
  },
  {
   "cell_type": "markdown",
   "id": "85b33a83",
   "metadata": {},
   "source": [
    "## QUESTION 5 \n",
    "Display unique values of a categorical variable."
   ]
  },
  {
   "cell_type": "code",
   "execution_count": 37,
   "id": "30564335",
   "metadata": {},
   "outputs": [
    {
     "data": {
      "text/plain": [
       "male      276\n",
       "female    249\n",
       "Name: gender, dtype: int64"
      ]
     },
     "execution_count": 37,
     "metadata": {},
     "output_type": "execute_result"
    }
   ],
   "source": [
    "#Counts every value for gender\n",
    "sorted_df['gender'].value_counts()"
   ]
  },
  {
   "cell_type": "code",
   "execution_count": 39,
   "id": "6157715f",
   "metadata": {},
   "outputs": [
    {
     "data": {
      "text/plain": [
       "<AxesSubplot:ylabel='gender'>"
      ]
     },
     "execution_count": 39,
     "metadata": {},
     "output_type": "execute_result"
    },
    {
     "data": {
      "image/png": "[encoded data removed]",
      "text/plain": [
       "<Figure size 432x288 with 1 Axes>"
      ]
     },
     "metadata": {},
     "output_type": "display_data"
    }
   ],
   "source": [
    "#Plots pie chart\n",
    "df.gender.value_counts().plot.pie(autopct='%1.1f%%')"
   ]
  },
  {
   "cell_type": "code",
   "execution_count": 38,
   "id": "a7565aba",
   "metadata": {},
   "outputs": [
    {
     "data": {
      "text/plain": [
       "white       471\n",
       "nonwhite     54\n",
       "Name: race, dtype: int64"
      ]
     },
     "execution_count": 38,
     "metadata": {},
     "output_type": "execute_result"
    }
   ],
   "source": [
    "#Counts every value for race\n",
    "sorted_df[\"race\"]. value_counts()"
   ]
  },
  {
   "cell_type": "code",
   "execution_count": 40,
   "id": "77791312",
   "metadata": {},
   "outputs": [
    {
     "data": {
      "text/plain": [
       "<AxesSubplot:ylabel='race'>"
      ]
     },
     "execution_count": 40,
     "metadata": {},
     "output_type": "execute_result"
    },
    {
     "data": {
      "image/png": "[encoded data removed]",
      "text/plain": [
       "<Figure size 432x288 with 1 Axes>"
      ]
     },
     "metadata": {},
     "output_type": "display_data"
    }
   ],
   "source": [
    "#Plots pie chart\n",
    "df.race.value_counts().plot.pie(autopct='%1.1f%%')"
   ]
  },
  {
   "cell_type": "code",
   "execution_count": 41,
   "id": "c54fad6e",
   "metadata": {},
   "outputs": [
    {
     "data": {
      "text/plain": [
       "1.0    321\n",
       "0.0    204\n",
       "Name: married, dtype: int64"
      ]
     },
     "execution_count": 41,
     "metadata": {},
     "output_type": "execute_result"
    }
   ],
   "source": [
    "#Counts every value for marraige\n",
    "sorted_df[\"married\"].value_counts()"
   ]
  },
  {
   "cell_type": "code",
   "execution_count": 42,
   "id": "e734e18c",
   "metadata": {},
   "outputs": [
    {
     "data": {
      "text/plain": [
       "<AxesSubplot:ylabel='married'>"
      ]
     },
     "execution_count": 42,
     "metadata": {},
     "output_type": "execute_result"
    },
    {
     "data": {
      "image/png": "[encoded data removed]",
      "text/plain": [
       "<Figure size 432x288 with 1 Axes>"
      ]
     },
     "metadata": {},
     "output_type": "display_data"
    }
   ],
   "source": [
    "#Plots pie chart\n",
    "df.married.value_counts().plot.pie(autopct='%1.1f%%')"
   ]
  },
  {
   "cell_type": "markdown",
   "id": "92a28260",
   "metadata": {},
   "source": [
    "## QUESTION 6\n",
    "Build a contingency table of two potentially related categorical variables. Conduct a statistical test of the independence between them"
   ]
  },
  {
   "cell_type": "code",
   "execution_count": 43,
   "id": "981e2282",
   "metadata": {},
   "outputs": [
    {
     "data": {
      "text/html": [
       "<div>\n",
       "<style scoped>\n",
       "    .dataframe tbody tr th:only-of-type {\n",
       "        vertical-align: middle;\n",
       "    }\n",
       "\n",
       "    .dataframe tbody tr th {\n",
       "        vertical-align: top;\n",
       "    }\n",
       "\n",
       "    .dataframe thead th {\n",
       "        text-align: right;\n",
       "    }\n",
       "</style>\n",
       "<table border=\"1\" class=\"dataframe\">\n",
       "  <thead>\n",
       "    <tr style=\"text-align: right;\">\n",
       "      <th>gender</th>\n",
       "      <th>female</th>\n",
       "      <th>male</th>\n",
       "    </tr>\n",
       "    <tr>\n",
       "      <th>race</th>\n",
       "      <th></th>\n",
       "      <th></th>\n",
       "    </tr>\n",
       "  </thead>\n",
       "  <tbody>\n",
       "    <tr>\n",
       "      <th>nonwhite</th>\n",
       "      <td>25</td>\n",
       "      <td>29</td>\n",
       "    </tr>\n",
       "    <tr>\n",
       "      <th>white</th>\n",
       "      <td>224</td>\n",
       "      <td>247</td>\n",
       "    </tr>\n",
       "  </tbody>\n",
       "</table>\n",
       "</div>"
      ],
      "text/plain": [
       "gender    female  male\n",
       "race                  \n",
       "nonwhite      25    29\n",
       "white        224   247"
      ]
     },
     "execution_count": 43,
     "metadata": {},
     "output_type": "execute_result"
    }
   ],
   "source": [
    "#Creates and displays a contingency table\n",
    "contingency_table = pd.crosstab(sorted_df['race'], sorted_df['gender'])\n",
    "contingency_table"
   ]
  },
  {
   "cell_type": "code",
   "execution_count": 44,
   "id": "00ebf222",
   "metadata": {},
   "outputs": [
    {
     "data": {
      "text/plain": [
       "<AxesSubplot:xlabel='race'>"
      ]
     },
     "execution_count": 44,
     "metadata": {},
     "output_type": "execute_result"
    },
    {
     "data": {
      "image/png": "[encoded data removed]",
      "text/plain": [
       "<Figure size 432x288 with 1 Axes>"
      ]
     },
     "metadata": {
      "needs_background": "light"
     },
     "output_type": "display_data"
    }
   ],
   "source": [
    "#Plots bar chart\n",
    "contingency_table.plot(kind='bar', stacked=True, rot=0)"
   ]
  },
  {
   "cell_type": "code",
   "execution_count": 45,
   "id": "38bf3f7e",
   "metadata": {},
   "outputs": [
    {
     "name": "stdout",
     "output_type": "stream",
     "text": [
      "P value is: 0.9744235870731893\n"
     ]
    }
   ],
   "source": [
    "#The Chi Square test is an appropriate test of independence \n",
    "chi2,p_val,dof,expected = stats.chi2_contingency(contingency_table)\n",
    "print('P value is:', p_val)"
   ]
  },
  {
   "cell_type": "markdown",
   "id": "d283e514",
   "metadata": {},
   "source": [
    "The p-value of the Chi Squared test on race and gender was 0.9744235870731893. \n",
    "This is significantly lower than  significance level of 0.05 so we would  we reject the null hypothesis that there is no dependence between the race and gender.\n",
    "\n",
    "Hence we would conclude that we found no evidence that the gender of individuals is dependent on race. "
   ]
  },
  {
   "cell_type": "markdown",
   "id": "a3cbee45",
   "metadata": {},
   "source": [
    "## QUESTION 7\n",
    "Retrieve one or more subset of rows based on two or more criteria and present descriptive statistics on the subset(s)."
   ]
  },
  {
   "cell_type": "code",
   "execution_count": 54,
   "id": "15a1f179",
   "metadata": {
    "scrolled": true
   },
   "outputs": [
    {
     "data": {
      "text/html": [
       "<div>\n",
       "<style scoped>\n",
       "    .dataframe tbody tr th:only-of-type {\n",
       "        vertical-align: middle;\n",
       "    }\n",
       "\n",
       "    .dataframe tbody tr th {\n",
       "        vertical-align: top;\n",
       "    }\n",
       "\n",
       "    .dataframe thead th {\n",
       "        text-align: right;\n",
       "    }\n",
       "</style>\n",
       "<table border=\"1\" class=\"dataframe\">\n",
       "  <thead>\n",
       "    <tr style=\"text-align: right;\">\n",
       "      <th></th>\n",
       "      <th>married</th>\n",
       "      <th>hourly_wage</th>\n",
       "      <th>years_in_education</th>\n",
       "      <th>years_in_employment</th>\n",
       "      <th>num_dependents</th>\n",
       "      <th>gender</th>\n",
       "      <th>race</th>\n",
       "    </tr>\n",
       "  </thead>\n",
       "  <tbody>\n",
       "    <tr>\n",
       "      <th>14</th>\n",
       "      <td>1.0</td>\n",
       "      <td>17.33</td>\n",
       "      <td>16.0</td>\n",
       "      <td>0.0</td>\n",
       "      <td>1.0</td>\n",
       "      <td>male</td>\n",
       "      <td>white</td>\n",
       "    </tr>\n",
       "    <tr>\n",
       "      <th>26</th>\n",
       "      <td>1.0</td>\n",
       "      <td>12.50</td>\n",
       "      <td>16.0</td>\n",
       "      <td>0.0</td>\n",
       "      <td>0.0</td>\n",
       "      <td>male</td>\n",
       "      <td>white</td>\n",
       "    </tr>\n",
       "    <tr>\n",
       "      <th>27</th>\n",
       "      <td>1.0</td>\n",
       "      <td>12.50</td>\n",
       "      <td>15.0</td>\n",
       "      <td>0.0</td>\n",
       "      <td>2.0</td>\n",
       "      <td>male</td>\n",
       "      <td>white</td>\n",
       "    </tr>\n",
       "    <tr>\n",
       "      <th>70</th>\n",
       "      <td>1.0</td>\n",
       "      <td>13.08</td>\n",
       "      <td>17.0</td>\n",
       "      <td>2.0</td>\n",
       "      <td>3.0</td>\n",
       "      <td>male</td>\n",
       "      <td>nonwhite</td>\n",
       "    </tr>\n",
       "    <tr>\n",
       "      <th>170</th>\n",
       "      <td>0.0</td>\n",
       "      <td>12.50</td>\n",
       "      <td>12.0</td>\n",
       "      <td>1.0</td>\n",
       "      <td>0.0</td>\n",
       "      <td>male</td>\n",
       "      <td>white</td>\n",
       "    </tr>\n",
       "    <tr>\n",
       "      <th>258</th>\n",
       "      <td>0.0</td>\n",
       "      <td>18.00</td>\n",
       "      <td>18.0</td>\n",
       "      <td>0.0</td>\n",
       "      <td>0.0</td>\n",
       "      <td>female</td>\n",
       "      <td>white</td>\n",
       "    </tr>\n",
       "    <tr>\n",
       "      <th>337</th>\n",
       "      <td>0.0</td>\n",
       "      <td>12.22</td>\n",
       "      <td>16.0</td>\n",
       "      <td>2.0</td>\n",
       "      <td>0.0</td>\n",
       "      <td>male</td>\n",
       "      <td>white</td>\n",
       "    </tr>\n",
       "    <tr>\n",
       "      <th>350</th>\n",
       "      <td>0.0</td>\n",
       "      <td>12.50</td>\n",
       "      <td>18.0</td>\n",
       "      <td>2.0</td>\n",
       "      <td>0.0</td>\n",
       "      <td>male</td>\n",
       "      <td>white</td>\n",
       "    </tr>\n",
       "    <tr>\n",
       "      <th>503</th>\n",
       "      <td>1.0</td>\n",
       "      <td>17.71</td>\n",
       "      <td>16.0</td>\n",
       "      <td>3.0</td>\n",
       "      <td>1.0</td>\n",
       "      <td>male</td>\n",
       "      <td>white</td>\n",
       "    </tr>\n",
       "    <tr>\n",
       "      <th>520</th>\n",
       "      <td>1.0</td>\n",
       "      <td>15.00</td>\n",
       "      <td>16.0</td>\n",
       "      <td>2.0</td>\n",
       "      <td>2.0</td>\n",
       "      <td>female</td>\n",
       "      <td>white</td>\n",
       "    </tr>\n",
       "  </tbody>\n",
       "</table>\n",
       "</div>"
      ],
      "text/plain": [
       "     married  hourly_wage  years_in_education  years_in_employment  \\\n",
       "14       1.0        17.33                16.0                  0.0   \n",
       "26       1.0        12.50                16.0                  0.0   \n",
       "27       1.0        12.50                15.0                  0.0   \n",
       "70       1.0        13.08                17.0                  2.0   \n",
       "170      0.0        12.50                12.0                  1.0   \n",
       "258      0.0        18.00                18.0                  0.0   \n",
       "337      0.0        12.22                16.0                  2.0   \n",
       "350      0.0        12.50                18.0                  2.0   \n",
       "503      1.0        17.71                16.0                  3.0   \n",
       "520      1.0        15.00                16.0                  2.0   \n",
       "\n",
       "     num_dependents  gender      race  \n",
       "14              1.0    male     white  \n",
       "26              0.0    male     white  \n",
       "27              2.0    male     white  \n",
       "70              3.0    male  nonwhite  \n",
       "170             0.0    male     white  \n",
       "258             0.0  female     white  \n",
       "337             0.0    male     white  \n",
       "350             0.0    male     white  \n",
       "503             1.0    male     white  \n",
       "520             2.0  female     white  "
      ]
     },
     "execution_count": 54,
     "metadata": {},
     "output_type": "execute_result"
    }
   ],
   "source": [
    "# Criteria chosen is to find individuals with less than 4 years in employment that earn more than $12 hourly wage\n",
    "#Displays a subset based on a defined a criteria. \n",
    "\n",
    "subset = sorted_df[(sorted_df.years_in_employment < 4) & (sorted_df.hourly_wage > 12)]\n",
    "subset"
   ]
  },
  {
   "cell_type": "markdown",
   "id": "09107e80",
   "metadata": {},
   "source": [
    "There are 10 people in the data set with less than 4 years in employment that earn more than $12 hourly wage"
   ]
  },
  {
   "cell_type": "code",
   "execution_count": 53,
   "id": "5ac4a8dc",
   "metadata": {
    "scrolled": false
   },
   "outputs": [
    {
     "data": {
      "text/html": [
       "<div>\n",
       "<style scoped>\n",
       "    .dataframe tbody tr th:only-of-type {\n",
       "        vertical-align: middle;\n",
       "    }\n",
       "\n",
       "    .dataframe tbody tr th {\n",
       "        vertical-align: top;\n",
       "    }\n",
       "\n",
       "    .dataframe thead th {\n",
       "        text-align: right;\n",
       "    }\n",
       "</style>\n",
       "<table border=\"1\" class=\"dataframe\">\n",
       "  <thead>\n",
       "    <tr style=\"text-align: right;\">\n",
       "      <th></th>\n",
       "      <th>married</th>\n",
       "      <th>hourly_wage</th>\n",
       "      <th>years_in_education</th>\n",
       "      <th>years_in_employment</th>\n",
       "      <th>num_dependents</th>\n",
       "    </tr>\n",
       "  </thead>\n",
       "  <tbody>\n",
       "    <tr>\n",
       "      <th>count</th>\n",
       "      <td>10.000000</td>\n",
       "      <td>10.000000</td>\n",
       "      <td>10.000000</td>\n",
       "      <td>10.000000</td>\n",
       "      <td>10.000000</td>\n",
       "    </tr>\n",
       "    <tr>\n",
       "      <th>mean</th>\n",
       "      <td>0.600000</td>\n",
       "      <td>14.334000</td>\n",
       "      <td>16.000000</td>\n",
       "      <td>1.200000</td>\n",
       "      <td>0.900000</td>\n",
       "    </tr>\n",
       "    <tr>\n",
       "      <th>std</th>\n",
       "      <td>0.516398</td>\n",
       "      <td>2.443864</td>\n",
       "      <td>1.699673</td>\n",
       "      <td>1.135292</td>\n",
       "      <td>1.100505</td>\n",
       "    </tr>\n",
       "    <tr>\n",
       "      <th>min</th>\n",
       "      <td>0.000000</td>\n",
       "      <td>12.220000</td>\n",
       "      <td>12.000000</td>\n",
       "      <td>0.000000</td>\n",
       "      <td>0.000000</td>\n",
       "    </tr>\n",
       "    <tr>\n",
       "      <th>25%</th>\n",
       "      <td>0.000000</td>\n",
       "      <td>12.500000</td>\n",
       "      <td>16.000000</td>\n",
       "      <td>0.000000</td>\n",
       "      <td>0.000000</td>\n",
       "    </tr>\n",
       "    <tr>\n",
       "      <th>50%</th>\n",
       "      <td>1.000000</td>\n",
       "      <td>12.790000</td>\n",
       "      <td>16.000000</td>\n",
       "      <td>1.500000</td>\n",
       "      <td>0.500000</td>\n",
       "    </tr>\n",
       "    <tr>\n",
       "      <th>75%</th>\n",
       "      <td>1.000000</td>\n",
       "      <td>16.747500</td>\n",
       "      <td>16.750000</td>\n",
       "      <td>2.000000</td>\n",
       "      <td>1.750000</td>\n",
       "    </tr>\n",
       "    <tr>\n",
       "      <th>max</th>\n",
       "      <td>1.000000</td>\n",
       "      <td>18.000000</td>\n",
       "      <td>18.000000</td>\n",
       "      <td>3.000000</td>\n",
       "      <td>3.000000</td>\n",
       "    </tr>\n",
       "  </tbody>\n",
       "</table>\n",
       "</div>"
      ],
      "text/plain": [
       "         married  hourly_wage  years_in_education  years_in_employment  \\\n",
       "count  10.000000    10.000000           10.000000            10.000000   \n",
       "mean    0.600000    14.334000           16.000000             1.200000   \n",
       "std     0.516398     2.443864            1.699673             1.135292   \n",
       "min     0.000000    12.220000           12.000000             0.000000   \n",
       "25%     0.000000    12.500000           16.000000             0.000000   \n",
       "50%     1.000000    12.790000           16.000000             1.500000   \n",
       "75%     1.000000    16.747500           16.750000             2.000000   \n",
       "max     1.000000    18.000000           18.000000             3.000000   \n",
       "\n",
       "       num_dependents  \n",
       "count       10.000000  \n",
       "mean         0.900000  \n",
       "std          1.100505  \n",
       "min          0.000000  \n",
       "25%          0.000000  \n",
       "50%          0.500000  \n",
       "75%          1.750000  \n",
       "max          3.000000  "
      ]
     },
     "execution_count": 53,
     "metadata": {},
     "output_type": "execute_result"
    }
   ],
   "source": [
    "#Displays the descriptive data\n",
    "subset.describe()"
   ]
  },
  {
   "cell_type": "code",
   "execution_count": 56,
   "id": "f7123282",
   "metadata": {},
   "outputs": [
    {
     "name": "stdout",
     "output_type": "stream",
     "text": [
      "male      8\n",
      "female    2\n",
      "Name: gender, dtype: int64\n"
     ]
    },
    {
     "data": {
      "image/png": "[encoded data removed]",
      "text/plain": [
       "<Figure size 576x576 with 1 Axes>"
      ]
     },
     "metadata": {},
     "output_type": "display_data"
    }
   ],
   "source": [
    "gender_count = subset['gender'].value_counts()\n",
    "gender_df = pd.DataFrame({'gender': gender_count}, \n",
    "                        index = ['male', 'female'])\n",
    "gender_df.plot.pie(y='gender', figsize=(8,8), autopct='%1.1f%%')\n",
    "print(gender_count)"
   ]
  },
  {
   "cell_type": "code",
   "execution_count": 57,
   "id": "cd4cd7f2",
   "metadata": {},
   "outputs": [
    {
     "name": "stdout",
     "output_type": "stream",
     "text": [
      "white       9\n",
      "nonwhite    1\n",
      "Name: race, dtype: int64\n"
     ]
    },
    {
     "data": {
      "image/png": "[encoded data removed]",
      "text/plain": [
       "<Figure size 576x576 with 1 Axes>"
      ]
     },
     "metadata": {},
     "output_type": "display_data"
    }
   ],
   "source": [
    "race_count = subset['race'].value_counts()\n",
    "race_df = pd.DataFrame({'race': race_count}, \n",
    "                        index = ['white', 'nonwhite'])\n",
    "race_df.plot.pie(y='race', figsize=(8,8), autopct='%1.1f%%')\n",
    "print(race_count)"
   ]
  },
  {
   "cell_type": "markdown",
   "id": "f98c1c95",
   "metadata": {},
   "source": [
    "The subset of data shows that of the ten individuals with less than 4 years in employment that earn more than $12 hourly wage, the gender and race disparity was significant. Men we"
   ]
  },
  {
   "cell_type": "markdown",
   "id": "0cc46931",
   "metadata": {},
   "source": [
    "## QUESTION 8\n",
    "Conduct a statistical test of the significance of the difference between the means of two subsets of the data."
   ]
  },
  {
   "cell_type": "code",
   "execution_count": 62,
   "id": "516260fd",
   "metadata": {},
   "outputs": [],
   "source": [
    "import researchpy as rp"
   ]
  },
  {
   "cell_type": "code",
   "execution_count": 65,
   "id": "743860c7",
   "metadata": {},
   "outputs": [
    {
     "name": "stdout",
     "output_type": "stream",
     "text": [
      "   Variable      N      Mean        SD        SE  95% Conf.  Interval\n",
      "0      male  276.0  7.071904  4.152448  0.249948   6.579849  7.563958\n",
      "1    female  249.0  4.638419  2.494738  0.158098   4.327034  4.949804\n",
      "2  combined  525.0  5.917737  3.670713  0.160203   5.603018  6.232456\n"
     ]
    }
   ],
   "source": [
    "#Checks for the statistical difference in the average hourly wage of th two gender \n",
    "summary, results = rp.ttest(group1= sorted_df[\"hourly_wage\"][sorted_df['gender']=='male'],group1_name =\"male\",\n",
    "        group2= sorted_df['hourly_wage'][sorted_df['gender']=='female'], group2_name =\"female\")\n",
    "print(summary)"
   ]
  },
  {
   "cell_type": "markdown",
   "id": "4a47c381",
   "metadata": {},
   "source": [
    "The results show that the hourly wage of females on an average is more 30% lower than that of their male counterparts, whcih indicates that the female portion of wages which are on the lower band bring down the combined mean all together."
   ]
  },
  {
   "cell_type": "code",
   "execution_count": 66,
   "id": "fa390448",
   "metadata": {},
   "outputs": [
    {
     "name": "stdout",
     "output_type": "stream",
     "text": [
      "              Independent t-test   results\n",
      "0  Difference (male - female) =     2.4335\n",
      "1          Degrees of freedom =   523.0000\n",
      "2                           t =     8.0314\n",
      "3       Two side test p value =     0.0000\n",
      "4      Difference < 0 p value =     1.0000\n",
      "5      Difference > 0 p value =     0.0000\n",
      "6                   Cohen's d =     0.7020\n",
      "7                   Hedge's g =     0.7010\n",
      "8               Glass's delta =     0.5860\n",
      "9                 Pearson's r =     0.3314\n"
     ]
    }
   ],
   "source": [
    "print(results)"
   ]
  },
  {
   "cell_type": "markdown",
   "id": "0fdcaf6f",
   "metadata": {},
   "source": [
    "With a 95% confidence interval, the p-value of 0.0000 shows that there is a high signifiance and we reject the null hypothesis.\n",
    "This means that there is stattistical difference betweem the hourly wages of male and female individuals\n",
    "\n",
    "The correlation also sits at 0.3314 which shows a moderate correlation in gender and hourly wage\n",
    "\n",
    "Degrees of freedom is 525-1-1 = 523"
   ]
  },
  {
   "cell_type": "markdown",
   "id": "1053e7a1",
   "metadata": {},
   "source": [
    "## Question 9\n",
    "Create one or more tables that group the data by a certain categorical variable and displays summarized information for each group (e.g. the mean or sum within the group)."
   ]
  },
  {
   "cell_type": "code",
   "execution_count": 67,
   "id": "c588b76a",
   "metadata": {},
   "outputs": [
    {
     "data": {
      "text/plain": [
       "gender\n",
       "female    249\n",
       "male      276\n",
       "dtype: int64"
      ]
     },
     "execution_count": 67,
     "metadata": {},
     "output_type": "execute_result"
    }
   ],
   "source": [
    "group_gender = sorted_df.groupby(\"gender\")\n",
    "group_gender.size()"
   ]
  },
  {
   "cell_type": "code",
   "execution_count": 68,
   "id": "7a9e98bb",
   "metadata": {},
   "outputs": [
    {
     "data": {
      "text/html": [
       "<div>\n",
       "<style scoped>\n",
       "    .dataframe tbody tr th:only-of-type {\n",
       "        vertical-align: middle;\n",
       "    }\n",
       "\n",
       "    .dataframe tbody tr th {\n",
       "        vertical-align: top;\n",
       "    }\n",
       "\n",
       "    .dataframe thead tr th {\n",
       "        text-align: left;\n",
       "    }\n",
       "\n",
       "    .dataframe thead tr:last-of-type th {\n",
       "        text-align: right;\n",
       "    }\n",
       "</style>\n",
       "<table border=\"1\" class=\"dataframe\">\n",
       "  <thead>\n",
       "    <tr>\n",
       "      <th></th>\n",
       "      <th colspan=\"6\" halign=\"left\">years_in_education</th>\n",
       "      <th colspan=\"4\" halign=\"left\">years_in_employment</th>\n",
       "      <th>...</th>\n",
       "      <th colspan=\"4\" halign=\"left\">hourly_wage</th>\n",
       "      <th colspan=\"6\" halign=\"left\">num_dependents</th>\n",
       "    </tr>\n",
       "    <tr>\n",
       "      <th></th>\n",
       "      <th>count</th>\n",
       "      <th>min</th>\n",
       "      <th>max</th>\n",
       "      <th>mean</th>\n",
       "      <th>median</th>\n",
       "      <th>skew</th>\n",
       "      <th>count</th>\n",
       "      <th>min</th>\n",
       "      <th>max</th>\n",
       "      <th>mean</th>\n",
       "      <th>...</th>\n",
       "      <th>max</th>\n",
       "      <th>mean</th>\n",
       "      <th>median</th>\n",
       "      <th>skew</th>\n",
       "      <th>count</th>\n",
       "      <th>min</th>\n",
       "      <th>max</th>\n",
       "      <th>mean</th>\n",
       "      <th>median</th>\n",
       "      <th>skew</th>\n",
       "    </tr>\n",
       "    <tr>\n",
       "      <th>gender</th>\n",
       "      <th></th>\n",
       "      <th></th>\n",
       "      <th></th>\n",
       "      <th></th>\n",
       "      <th></th>\n",
       "      <th></th>\n",
       "      <th></th>\n",
       "      <th></th>\n",
       "      <th></th>\n",
       "      <th></th>\n",
       "      <th></th>\n",
       "      <th></th>\n",
       "      <th></th>\n",
       "      <th></th>\n",
       "      <th></th>\n",
       "      <th></th>\n",
       "      <th></th>\n",
       "      <th></th>\n",
       "      <th></th>\n",
       "      <th></th>\n",
       "      <th></th>\n",
       "    </tr>\n",
       "  </thead>\n",
       "  <tbody>\n",
       "    <tr>\n",
       "      <th>female</th>\n",
       "      <td>249</td>\n",
       "      <td>0.0</td>\n",
       "      <td>18.0</td>\n",
       "      <td>12.321285</td>\n",
       "      <td>12.0</td>\n",
       "      <td>-0.884855</td>\n",
       "      <td>249</td>\n",
       "      <td>0.0</td>\n",
       "      <td>34.0</td>\n",
       "      <td>3.725948</td>\n",
       "      <td>...</td>\n",
       "      <td>21.63</td>\n",
       "      <td>4.638419</td>\n",
       "      <td>3.81</td>\n",
       "      <td>2.849898</td>\n",
       "      <td>249</td>\n",
       "      <td>0.0</td>\n",
       "      <td>5.0</td>\n",
       "      <td>1.064790</td>\n",
       "      <td>1.0</td>\n",
       "      <td>1.057203</td>\n",
       "    </tr>\n",
       "    <tr>\n",
       "      <th>male</th>\n",
       "      <td>276</td>\n",
       "      <td>2.0</td>\n",
       "      <td>18.0</td>\n",
       "      <td>12.770552</td>\n",
       "      <td>12.0</td>\n",
       "      <td>-0.574011</td>\n",
       "      <td>276</td>\n",
       "      <td>0.0</td>\n",
       "      <td>44.0</td>\n",
       "      <td>6.438957</td>\n",
       "      <td>...</td>\n",
       "      <td>24.98</td>\n",
       "      <td>7.071904</td>\n",
       "      <td>6.00</td>\n",
       "      <td>1.599322</td>\n",
       "      <td>276</td>\n",
       "      <td>0.0</td>\n",
       "      <td>6.0</td>\n",
       "      <td>1.025683</td>\n",
       "      <td>0.0</td>\n",
       "      <td>1.258452</td>\n",
       "    </tr>\n",
       "  </tbody>\n",
       "</table>\n",
       "<p>2 rows × 24 columns</p>\n",
       "</div>"
      ],
      "text/plain": [
       "       years_in_education                                         \\\n",
       "                    count  min   max       mean median      skew   \n",
       "gender                                                             \n",
       "female                249  0.0  18.0  12.321285   12.0 -0.884855   \n",
       "male                  276  2.0  18.0  12.770552   12.0 -0.574011   \n",
       "\n",
       "       years_in_employment                       ... hourly_wage            \\\n",
       "                     count  min   max      mean  ...         max      mean   \n",
       "gender                                           ...                         \n",
       "female                 249  0.0  34.0  3.725948  ...       21.63  4.638419   \n",
       "male                   276  0.0  44.0  6.438957  ...       24.98  7.071904   \n",
       "\n",
       "                        num_dependents                                       \n",
       "       median      skew          count  min  max      mean median      skew  \n",
       "gender                                                                       \n",
       "female   3.81  2.849898            249  0.0  5.0  1.064790    1.0  1.057203  \n",
       "male     6.00  1.599322            276  0.0  6.0  1.025683    0.0  1.258452  \n",
       "\n",
       "[2 rows x 24 columns]"
      ]
     },
     "execution_count": 68,
     "metadata": {},
     "output_type": "execute_result"
    }
   ],
   "source": [
    "show_grpdata = group_gender.agg({\"years_in_education\":[\"count\",\"min\",\"max\",\"mean\",\"median\",\"skew\"],\n",
    "                  \"years_in_employment\":[\"count\",\"min\",\"max\",\"mean\",\"median\",\"skew\"],\n",
    "                     \"hourly_wage\":[\"count\",\"min\",\"max\",\"mean\",\"median\",\"skew\"],\n",
    "                     \"num_dependents\":[\"count\",\"min\",\"max\",\"mean\",\"median\",\"skew\"]\n",
    "                    })\n",
    "show_grpdata"
   ]
  },
  {
   "cell_type": "markdown",
   "id": "9bc29616",
   "metadata": {},
   "source": [
    "## Question 10\n",
    "Implement a linear regression model and interpret its output"
   ]
  },
  {
   "cell_type": "code",
   "execution_count": 69,
   "id": "3770dcab",
   "metadata": {},
   "outputs": [
    {
     "data": {
      "text/html": [
       "<div>\n",
       "<style scoped>\n",
       "    .dataframe tbody tr th:only-of-type {\n",
       "        vertical-align: middle;\n",
       "    }\n",
       "\n",
       "    .dataframe tbody tr th {\n",
       "        vertical-align: top;\n",
       "    }\n",
       "\n",
       "    .dataframe thead th {\n",
       "        text-align: right;\n",
       "    }\n",
       "</style>\n",
       "<table border=\"1\" class=\"dataframe\">\n",
       "  <thead>\n",
       "    <tr style=\"text-align: right;\">\n",
       "      <th></th>\n",
       "      <th>married</th>\n",
       "      <th>hourly_wage</th>\n",
       "      <th>years_in_education</th>\n",
       "      <th>years_in_employment</th>\n",
       "      <th>num_dependents</th>\n",
       "      <th>gender</th>\n",
       "      <th>race</th>\n",
       "    </tr>\n",
       "  </thead>\n",
       "  <tbody>\n",
       "    <tr>\n",
       "      <th>0</th>\n",
       "      <td>1</td>\n",
       "      <td>3.24</td>\n",
       "      <td>12.0</td>\n",
       "      <td>2.0</td>\n",
       "      <td>3.0</td>\n",
       "      <td>0</td>\n",
       "      <td>1</td>\n",
       "    </tr>\n",
       "    <tr>\n",
       "      <th>1</th>\n",
       "      <td>0</td>\n",
       "      <td>3.00</td>\n",
       "      <td>11.0</td>\n",
       "      <td>0.0</td>\n",
       "      <td>2.0</td>\n",
       "      <td>1</td>\n",
       "      <td>1</td>\n",
       "    </tr>\n",
       "    <tr>\n",
       "      <th>2</th>\n",
       "      <td>1</td>\n",
       "      <td>6.00</td>\n",
       "      <td>8.0</td>\n",
       "      <td>28.0</td>\n",
       "      <td>0.0</td>\n",
       "      <td>1</td>\n",
       "      <td>1</td>\n",
       "    </tr>\n",
       "    <tr>\n",
       "      <th>3</th>\n",
       "      <td>1</td>\n",
       "      <td>5.30</td>\n",
       "      <td>12.0</td>\n",
       "      <td>2.0</td>\n",
       "      <td>1.0</td>\n",
       "      <td>1</td>\n",
       "      <td>1</td>\n",
       "    </tr>\n",
       "    <tr>\n",
       "      <th>4</th>\n",
       "      <td>1</td>\n",
       "      <td>8.75</td>\n",
       "      <td>16.0</td>\n",
       "      <td>8.0</td>\n",
       "      <td>0.0</td>\n",
       "      <td>1</td>\n",
       "      <td>1</td>\n",
       "    </tr>\n",
       "  </tbody>\n",
       "</table>\n",
       "</div>"
      ],
      "text/plain": [
       "   married  hourly_wage  years_in_education  years_in_employment  \\\n",
       "0        1         3.24                12.0                  2.0   \n",
       "1        0         3.00                11.0                  0.0   \n",
       "2        1         6.00                 8.0                 28.0   \n",
       "3        1         5.30                12.0                  2.0   \n",
       "4        1         8.75                16.0                  8.0   \n",
       "\n",
       "   num_dependents  gender  race  \n",
       "0             3.0       0     1  \n",
       "1             2.0       1     1  \n",
       "2             0.0       1     1  \n",
       "3             1.0       1     1  \n",
       "4             0.0       1     1  "
      ]
     },
     "execution_count": 69,
     "metadata": {},
     "output_type": "execute_result"
    }
   ],
   "source": [
    "from sklearn.preprocessing import LabelEncoder\n",
    "number = LabelEncoder()\n",
    "sorted_df['gender'] = number.fit_transform(sorted_df['gender'].astype('object'))\n",
    "sorted_df['race'] = number.fit_transform(sorted_df['race'].astype('object'))\n",
    "sorted_df['married'] = number.fit_transform(sorted_df['married'].astype('float'))\n",
    "sorted_df.head()"
   ]
  },
  {
   "cell_type": "code",
   "execution_count": 72,
   "id": "1a63787c",
   "metadata": {
    "scrolled": true
   },
   "outputs": [
    {
     "data": {
      "text/html": [
       "<table class=\"simpletable\">\n",
       "<caption>OLS Regression Results</caption>\n",
       "<tr>\n",
       "  <th>Dep. Variable:</th>       <td>hourly_wage</td>   <th>  R-squared:         </th> <td>   0.340</td>\n",
       "</tr>\n",
       "<tr>\n",
       "  <th>Model:</th>                   <td>OLS</td>       <th>  Adj. R-squared:    </th> <td>   0.336</td>\n",
       "</tr>\n",
       "<tr>\n",
       "  <th>Method:</th>             <td>Least Squares</td>  <th>  F-statistic:       </th> <td>   89.41</td>\n",
       "</tr>\n",
       "<tr>\n",
       "  <th>Date:</th>             <td>Fri, 17 Dec 2021</td> <th>  Prob (F-statistic):</th> <td>1.10e-46</td>\n",
       "</tr>\n",
       "<tr>\n",
       "  <th>Time:</th>                 <td>05:37:23</td>     <th>  Log-Likelihood:    </th> <td> -1318.1</td>\n",
       "</tr>\n",
       "<tr>\n",
       "  <th>No. Observations:</th>      <td>   525</td>      <th>  AIC:               </th> <td>   2644.</td>\n",
       "</tr>\n",
       "<tr>\n",
       "  <th>Df Residuals:</th>          <td>   521</td>      <th>  BIC:               </th> <td>   2661.</td>\n",
       "</tr>\n",
       "<tr>\n",
       "  <th>Df Model:</th>              <td>     3</td>      <th>                     </th>     <td> </td>   \n",
       "</tr>\n",
       "<tr>\n",
       "  <th>Covariance Type:</th>      <td>nonrobust</td>    <th>                     </th>     <td> </td>   \n",
       "</tr>\n",
       "</table>\n",
       "<table class=\"simpletable\">\n",
       "<tr>\n",
       "           <td></td>              <th>coef</th>     <th>std err</th>      <th>t</th>      <th>P>|t|</th>  <th>[0.025</th>    <th>0.975]</th>  \n",
       "</tr>\n",
       "<tr>\n",
       "  <th>Intercept</th>           <td>   -2.3729</td> <td>    0.628</td> <td>   -3.777</td> <td> 0.000</td> <td>   -3.607</td> <td>   -1.139</td>\n",
       "</tr>\n",
       "<tr>\n",
       "  <th>years_in_education</th>  <td>    0.5197</td> <td>    0.048</td> <td>   10.864</td> <td> 0.000</td> <td>    0.426</td> <td>    0.614</td>\n",
       "</tr>\n",
       "<tr>\n",
       "  <th>years_in_employment</th> <td>    0.1631</td> <td>    0.018</td> <td>    8.816</td> <td> 0.000</td> <td>    0.127</td> <td>    0.199</td>\n",
       "</tr>\n",
       "<tr>\n",
       "  <th>gender</th>              <td>    1.7576</td> <td>    0.267</td> <td>    6.573</td> <td> 0.000</td> <td>    1.232</td> <td>    2.283</td>\n",
       "</tr>\n",
       "</table>\n",
       "<table class=\"simpletable\">\n",
       "<tr>\n",
       "  <th>Omnibus:</th>       <td>202.430</td> <th>  Durbin-Watson:     </th> <td>   1.812</td> \n",
       "</tr>\n",
       "<tr>\n",
       "  <th>Prob(Omnibus):</th> <td> 0.000</td>  <th>  Jarque-Bera (JB):  </th> <td> 853.819</td> \n",
       "</tr>\n",
       "<tr>\n",
       "  <th>Skew:</th>          <td> 1.713</td>  <th>  Prob(JB):          </th> <td>3.94e-186</td>\n",
       "</tr>\n",
       "<tr>\n",
       "  <th>Kurtosis:</th>      <td> 8.224</td>  <th>  Cond. No.          </th> <td>    68.3</td> \n",
       "</tr>\n",
       "</table><br/><br/>Notes:<br/>[1] Standard Errors assume that the covariance matrix of the errors is correctly specified."
      ],
      "text/plain": [
       "<class 'statsmodels.iolib.summary.Summary'>\n",
       "\"\"\"\n",
       "                            OLS Regression Results                            \n",
       "==============================================================================\n",
       "Dep. Variable:            hourly_wage   R-squared:                       0.340\n",
       "Model:                            OLS   Adj. R-squared:                  0.336\n",
       "Method:                 Least Squares   F-statistic:                     89.41\n",
       "Date:                Fri, 17 Dec 2021   Prob (F-statistic):           1.10e-46\n",
       "Time:                        05:37:23   Log-Likelihood:                -1318.1\n",
       "No. Observations:                 525   AIC:                             2644.\n",
       "Df Residuals:                     521   BIC:                             2661.\n",
       "Df Model:                           3                                         \n",
       "Covariance Type:            nonrobust                                         \n",
       "=======================================================================================\n",
       "                          coef    std err          t      P>|t|      [0.025      0.975]\n",
       "---------------------------------------------------------------------------------------\n",
       "Intercept              -2.3729      0.628     -3.777      0.000      -3.607      -1.139\n",
       "years_in_education      0.5197      0.048     10.864      0.000       0.426       0.614\n",
       "years_in_employment     0.1631      0.018      8.816      0.000       0.127       0.199\n",
       "gender                  1.7576      0.267      6.573      0.000       1.232       2.283\n",
       "==============================================================================\n",
       "Omnibus:                      202.430   Durbin-Watson:                   1.812\n",
       "Prob(Omnibus):                  0.000   Jarque-Bera (JB):              853.819\n",
       "Skew:                           1.713   Prob(JB):                    3.94e-186\n",
       "Kurtosis:                       8.224   Cond. No.                         68.3\n",
       "==============================================================================\n",
       "\n",
       "Notes:\n",
       "[1] Standard Errors assume that the covariance matrix of the errors is correctly specified.\n",
       "\"\"\""
      ]
     },
     "execution_count": 72,
     "metadata": {},
     "output_type": "execute_result"
    }
   ],
   "source": [
    "lr_model = sm.OLS.from_formula(\n",
    "    \"hourly_wage ~  years_in_education + years_in_employment + gender\", data = sorted_df).fit()\n",
    "lr_model.summary()"
   ]
  },
  {
   "cell_type": "markdown",
   "id": "d831d30b",
   "metadata": {},
   "source": [
    "**(1) Coefficients on the variables.** Our model is described by:\n",
    "\n",
    "**Hourlywage = -2.3729 + 0.5197 * (years_in_education) + 0.1631 * (years_in_employment) + 1.7576 * (gender)**\n",
    "\n",
    "This shows that the most important variables by order of importance are Gender, Years in education and Years in employment. \n",
    "\n",
    "**(2) Significance of the variables**:- In the table, we see that the p values of years in education, years in employment, and gender all have a value to be  of p = 0.000 which is significant, these factors have a significant effect on the dependent variable which is the hourly wage.\n",
    "\n",
    "**(3) Quality of the model**:- The R-squared of 0.34 and the adjusted R-spuared 0.336 values are\n",
    "shown in the first table. Both are around 0.3 (30%), which shows a lack of accuracy in the predictive abilities of the model with the level of information provided.\n",
    "\n"
   ]
  }
 ],
 "metadata": {
  "kernelspec": {
   "display_name": "Python 3",
   "language": "python",
   "name": "python3"
  },
  "language_info": {
   "codemirror_mode": {
    "name": "ipython",
    "version": 3
   },
   "file_extension": ".py",
   "mimetype": "text/x-python",
   "name": "python",
   "nbconvert_exporter": "python",
   "pygments_lexer": "ipython3",
   "version": "3.8.8"
  }
 },
 "nbformat": 4,
 "nbformat_minor": 5
}
